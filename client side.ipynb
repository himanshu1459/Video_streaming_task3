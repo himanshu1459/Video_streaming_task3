{
 "cells": [
  {
   "cell_type": "code",
   "execution_count": null,
   "metadata": {},
   "outputs": [],
   "source": [
    "import socket \n",
    "import json\n",
    "import pickle\n",
    "import cv2\n",
    "import urllib\n",
    "import numpy as np\n",
    "\n",
    "\n",
    "url = \"https://192.168.43.18080/shot.jpg\"\n",
    "\n",
    "s = socket.socket(socket.AF_INET, socket.SOCK_STREAM)\n",
    "ip = \"192.168.43.207\"\n",
    "port = 2323\n",
    "\n",
    "s.connect((ip,port))\n",
    "\n",
    "while True:\n",
    "    x =s.recv(1000000)\n",
    "    print(\"received\")\n",
    "    imgResp = urllib.request.urlopen(url)\n",
    "    imgNp = np.array(bytearray (imgResp.read()))\n",
    "    img = cv2.imdecode(imgNp,-1)\n",
    "    img = cv2.resize(img,(600,500))\n",
    "    ret,buffer = cv2.imencode('.jpg',img)\n",
    "    bytedata = pickle.dumps(buffer)\n",
    "    \n",
    "    s.send(bytedata)\n",
    "    try:\n",
    "        data = pickle.loads(x)\n",
    "        data = cv2.imdecode(data,cv2.IMREAD_COLOR)\n",
    "        if data is not None:\n",
    "            cv2.imshow('server',data)\n",
    "            if cv2.waitKey(10) == 13:\n",
    "                break\n",
    "                \n",
    "    except:\n",
    "         print('waiting for the server')\n",
    "        \n",
    "cv2.destroyAllWindows()\n",
    "    \n",
    "        "
   ]
  },
  {
   "cell_type": "code",
   "execution_count": null,
   "metadata": {},
   "outputs": [],
   "source": []
  }
 ],
 "metadata": {
  "kernelspec": {
   "display_name": "Python 3",
   "language": "python",
   "name": "python3"
  },
  "language_info": {
   "codemirror_mode": {
    "name": "ipython",
    "version": 3
   },
   "file_extension": ".py",
   "mimetype": "text/x-python",
   "name": "python",
   "nbconvert_exporter": "python",
   "pygments_lexer": "ipython3",
   "version": "3.8.5"
  }
 },
 "nbformat": 4,
 "nbformat_minor": 4
}

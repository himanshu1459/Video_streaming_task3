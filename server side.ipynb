{
 "cells": [
  {
   "cell_type": "code",
   "execution_count": null,
   "metadata": {},
   "outputs": [],
   "source": [
    "import socket \n",
    "import json\n",
    "import pickle\n",
    "import cv2\n",
    "\n",
    "cap = cv2.VideoCapture(0)\n",
    "s = socket.socket(socket.AF_INET, socket.SOCK_STREAM)\n",
    "ip = \"192.168.43.207\"\n",
    "port = 2323\n",
    "\n",
    "s.bind(( ip,port ))\n",
    "print (\"Binded\")\n",
    "s.listen()\n",
    "\n",
    "o,addr = s.accept()\n",
    "print = (\"connected to {}\",format(addr))\n",
    "while True :\n",
    "    r,ph = cap.read()\n",
    "    r,buffer = cv2.imencode(\"jpg\",ph)\n",
    "    bytedata = pickle.dumps(buffer)\n",
    "    o.send(bytedata)\n",
    "    \n",
    "    x= o.recv(1000000)\n",
    "    \n",
    "    try:\n",
    "        data = pickle.loads(x)\n",
    "        data = cv2.imdecode(data,cv2.IMREAD_COLOR)\n",
    "        if data is not None:\n",
    "            cv2.imshow('server',data)\n",
    "            if cv2.waitKey(10) == 13:\n",
    "                break\n",
    "                \n",
    "    except:\n",
    "        print('waiting for the client')\n",
    "        \n",
    "cv2.destroyAllWindows()\n",
    "    "
   ]
  },
  {
   "cell_type": "code",
   "execution_count": null,
   "metadata": {},
   "outputs": [],
   "source": []
  }
 ],
 "metadata": {
  "kernelspec": {
   "display_name": "Python 3",
   "language": "python",
   "name": "python3"
  },
  "language_info": {
   "codemirror_mode": {
    "name": "ipython",
    "version": 3
   },
   "file_extension": ".py",
   "mimetype": "text/x-python",
   "name": "python",
   "nbconvert_exporter": "python",
   "pygments_lexer": "ipython3",
   "version": "3.8.5"
  }
 },
 "nbformat": 4,
 "nbformat_minor": 4
}
